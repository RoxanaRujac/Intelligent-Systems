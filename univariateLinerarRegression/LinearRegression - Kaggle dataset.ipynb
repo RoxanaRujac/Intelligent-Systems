{
 "cells": [
  {
   "cell_type": "code",
   "execution_count": 3,
   "id": "186dd659-4f91-4962-b628-6d9ca4af1d95",
   "metadata": {},
   "outputs": [],
   "source": [
    "import numpy as np\n",
    "import pandas as pd\n",
    "import matplotlib.pyplot as plt"
   ]
  },
  {
   "cell_type": "markdown",
   "id": "3a2e4d1e-48fb-43d7-aad0-cb45192ccc06",
   "metadata": {},
   "source": [
    "### Data Preprocessing"
   ]
  },
  {
   "cell_type": "code",
   "execution_count": 7,
   "id": "3decaed0-3fa1-47f5-bd4c-94d9b527b227",
   "metadata": {},
   "outputs": [],
   "source": [
    "data = pd.read_csv('data.csv')"
   ]
  },
  {
   "cell_type": "code",
   "execution_count": 8,
   "id": "b40438b1-6179-45f0-86e4-0c299518a49d",
   "metadata": {},
   "outputs": [
    {
     "data": {
      "text/html": [
       "<div>\n",
       "<style scoped>\n",
       "    .dataframe tbody tr th:only-of-type {\n",
       "        vertical-align: middle;\n",
       "    }\n",
       "\n",
       "    .dataframe tbody tr th {\n",
       "        vertical-align: top;\n",
       "    }\n",
       "\n",
       "    .dataframe thead th {\n",
       "        text-align: right;\n",
       "    }\n",
       "</style>\n",
       "<table border=\"1\" class=\"dataframe\">\n",
       "  <thead>\n",
       "    <tr style=\"text-align: right;\">\n",
       "      <th></th>\n",
       "      <th>date</th>\n",
       "      <th>price</th>\n",
       "      <th>bedrooms</th>\n",
       "      <th>bathrooms</th>\n",
       "      <th>sqft_living</th>\n",
       "      <th>sqft_lot</th>\n",
       "      <th>floors</th>\n",
       "      <th>waterfront</th>\n",
       "      <th>view</th>\n",
       "      <th>condition</th>\n",
       "      <th>sqft_above</th>\n",
       "      <th>sqft_basement</th>\n",
       "      <th>yr_built</th>\n",
       "      <th>yr_renovated</th>\n",
       "      <th>street</th>\n",
       "      <th>city</th>\n",
       "      <th>statezip</th>\n",
       "      <th>country</th>\n",
       "    </tr>\n",
       "  </thead>\n",
       "  <tbody>\n",
       "    <tr>\n",
       "      <th>0</th>\n",
       "      <td>2014-05-02 00:00:00</td>\n",
       "      <td>3.130000e+05</td>\n",
       "      <td>3.0</td>\n",
       "      <td>1.50</td>\n",
       "      <td>1340</td>\n",
       "      <td>7912</td>\n",
       "      <td>1.5</td>\n",
       "      <td>0</td>\n",
       "      <td>0</td>\n",
       "      <td>3</td>\n",
       "      <td>1340</td>\n",
       "      <td>0</td>\n",
       "      <td>1955</td>\n",
       "      <td>2005</td>\n",
       "      <td>18810 Densmore Ave N</td>\n",
       "      <td>Shoreline</td>\n",
       "      <td>WA 98133</td>\n",
       "      <td>USA</td>\n",
       "    </tr>\n",
       "    <tr>\n",
       "      <th>1</th>\n",
       "      <td>2014-05-02 00:00:00</td>\n",
       "      <td>2.384000e+06</td>\n",
       "      <td>5.0</td>\n",
       "      <td>2.50</td>\n",
       "      <td>3650</td>\n",
       "      <td>9050</td>\n",
       "      <td>2.0</td>\n",
       "      <td>0</td>\n",
       "      <td>4</td>\n",
       "      <td>5</td>\n",
       "      <td>3370</td>\n",
       "      <td>280</td>\n",
       "      <td>1921</td>\n",
       "      <td>0</td>\n",
       "      <td>709 W Blaine St</td>\n",
       "      <td>Seattle</td>\n",
       "      <td>WA 98119</td>\n",
       "      <td>USA</td>\n",
       "    </tr>\n",
       "    <tr>\n",
       "      <th>2</th>\n",
       "      <td>2014-05-02 00:00:00</td>\n",
       "      <td>3.420000e+05</td>\n",
       "      <td>3.0</td>\n",
       "      <td>2.00</td>\n",
       "      <td>1930</td>\n",
       "      <td>11947</td>\n",
       "      <td>1.0</td>\n",
       "      <td>0</td>\n",
       "      <td>0</td>\n",
       "      <td>4</td>\n",
       "      <td>1930</td>\n",
       "      <td>0</td>\n",
       "      <td>1966</td>\n",
       "      <td>0</td>\n",
       "      <td>26206-26214 143rd Ave SE</td>\n",
       "      <td>Kent</td>\n",
       "      <td>WA 98042</td>\n",
       "      <td>USA</td>\n",
       "    </tr>\n",
       "    <tr>\n",
       "      <th>3</th>\n",
       "      <td>2014-05-02 00:00:00</td>\n",
       "      <td>4.200000e+05</td>\n",
       "      <td>3.0</td>\n",
       "      <td>2.25</td>\n",
       "      <td>2000</td>\n",
       "      <td>8030</td>\n",
       "      <td>1.0</td>\n",
       "      <td>0</td>\n",
       "      <td>0</td>\n",
       "      <td>4</td>\n",
       "      <td>1000</td>\n",
       "      <td>1000</td>\n",
       "      <td>1963</td>\n",
       "      <td>0</td>\n",
       "      <td>857 170th Pl NE</td>\n",
       "      <td>Bellevue</td>\n",
       "      <td>WA 98008</td>\n",
       "      <td>USA</td>\n",
       "    </tr>\n",
       "    <tr>\n",
       "      <th>4</th>\n",
       "      <td>2014-05-02 00:00:00</td>\n",
       "      <td>5.500000e+05</td>\n",
       "      <td>4.0</td>\n",
       "      <td>2.50</td>\n",
       "      <td>1940</td>\n",
       "      <td>10500</td>\n",
       "      <td>1.0</td>\n",
       "      <td>0</td>\n",
       "      <td>0</td>\n",
       "      <td>4</td>\n",
       "      <td>1140</td>\n",
       "      <td>800</td>\n",
       "      <td>1976</td>\n",
       "      <td>1992</td>\n",
       "      <td>9105 170th Ave NE</td>\n",
       "      <td>Redmond</td>\n",
       "      <td>WA 98052</td>\n",
       "      <td>USA</td>\n",
       "    </tr>\n",
       "    <tr>\n",
       "      <th>...</th>\n",
       "      <td>...</td>\n",
       "      <td>...</td>\n",
       "      <td>...</td>\n",
       "      <td>...</td>\n",
       "      <td>...</td>\n",
       "      <td>...</td>\n",
       "      <td>...</td>\n",
       "      <td>...</td>\n",
       "      <td>...</td>\n",
       "      <td>...</td>\n",
       "      <td>...</td>\n",
       "      <td>...</td>\n",
       "      <td>...</td>\n",
       "      <td>...</td>\n",
       "      <td>...</td>\n",
       "      <td>...</td>\n",
       "      <td>...</td>\n",
       "      <td>...</td>\n",
       "    </tr>\n",
       "    <tr>\n",
       "      <th>4595</th>\n",
       "      <td>2014-07-09 00:00:00</td>\n",
       "      <td>3.081667e+05</td>\n",
       "      <td>3.0</td>\n",
       "      <td>1.75</td>\n",
       "      <td>1510</td>\n",
       "      <td>6360</td>\n",
       "      <td>1.0</td>\n",
       "      <td>0</td>\n",
       "      <td>0</td>\n",
       "      <td>4</td>\n",
       "      <td>1510</td>\n",
       "      <td>0</td>\n",
       "      <td>1954</td>\n",
       "      <td>1979</td>\n",
       "      <td>501 N 143rd St</td>\n",
       "      <td>Seattle</td>\n",
       "      <td>WA 98133</td>\n",
       "      <td>USA</td>\n",
       "    </tr>\n",
       "    <tr>\n",
       "      <th>4596</th>\n",
       "      <td>2014-07-09 00:00:00</td>\n",
       "      <td>5.343333e+05</td>\n",
       "      <td>3.0</td>\n",
       "      <td>2.50</td>\n",
       "      <td>1460</td>\n",
       "      <td>7573</td>\n",
       "      <td>2.0</td>\n",
       "      <td>0</td>\n",
       "      <td>0</td>\n",
       "      <td>3</td>\n",
       "      <td>1460</td>\n",
       "      <td>0</td>\n",
       "      <td>1983</td>\n",
       "      <td>2009</td>\n",
       "      <td>14855 SE 10th Pl</td>\n",
       "      <td>Bellevue</td>\n",
       "      <td>WA 98007</td>\n",
       "      <td>USA</td>\n",
       "    </tr>\n",
       "    <tr>\n",
       "      <th>4597</th>\n",
       "      <td>2014-07-09 00:00:00</td>\n",
       "      <td>4.169042e+05</td>\n",
       "      <td>3.0</td>\n",
       "      <td>2.50</td>\n",
       "      <td>3010</td>\n",
       "      <td>7014</td>\n",
       "      <td>2.0</td>\n",
       "      <td>0</td>\n",
       "      <td>0</td>\n",
       "      <td>3</td>\n",
       "      <td>3010</td>\n",
       "      <td>0</td>\n",
       "      <td>2009</td>\n",
       "      <td>0</td>\n",
       "      <td>759 Ilwaco Pl NE</td>\n",
       "      <td>Renton</td>\n",
       "      <td>WA 98059</td>\n",
       "      <td>USA</td>\n",
       "    </tr>\n",
       "    <tr>\n",
       "      <th>4598</th>\n",
       "      <td>2014-07-10 00:00:00</td>\n",
       "      <td>2.034000e+05</td>\n",
       "      <td>4.0</td>\n",
       "      <td>2.00</td>\n",
       "      <td>2090</td>\n",
       "      <td>6630</td>\n",
       "      <td>1.0</td>\n",
       "      <td>0</td>\n",
       "      <td>0</td>\n",
       "      <td>3</td>\n",
       "      <td>1070</td>\n",
       "      <td>1020</td>\n",
       "      <td>1974</td>\n",
       "      <td>0</td>\n",
       "      <td>5148 S Creston St</td>\n",
       "      <td>Seattle</td>\n",
       "      <td>WA 98178</td>\n",
       "      <td>USA</td>\n",
       "    </tr>\n",
       "    <tr>\n",
       "      <th>4599</th>\n",
       "      <td>2014-07-10 00:00:00</td>\n",
       "      <td>2.206000e+05</td>\n",
       "      <td>3.0</td>\n",
       "      <td>2.50</td>\n",
       "      <td>1490</td>\n",
       "      <td>8102</td>\n",
       "      <td>2.0</td>\n",
       "      <td>0</td>\n",
       "      <td>0</td>\n",
       "      <td>4</td>\n",
       "      <td>1490</td>\n",
       "      <td>0</td>\n",
       "      <td>1990</td>\n",
       "      <td>0</td>\n",
       "      <td>18717 SE 258th St</td>\n",
       "      <td>Covington</td>\n",
       "      <td>WA 98042</td>\n",
       "      <td>USA</td>\n",
       "    </tr>\n",
       "  </tbody>\n",
       "</table>\n",
       "<p>4600 rows × 18 columns</p>\n",
       "</div>"
      ],
      "text/plain": [
       "                     date         price  bedrooms  bathrooms  sqft_living  \\\n",
       "0     2014-05-02 00:00:00  3.130000e+05       3.0       1.50         1340   \n",
       "1     2014-05-02 00:00:00  2.384000e+06       5.0       2.50         3650   \n",
       "2     2014-05-02 00:00:00  3.420000e+05       3.0       2.00         1930   \n",
       "3     2014-05-02 00:00:00  4.200000e+05       3.0       2.25         2000   \n",
       "4     2014-05-02 00:00:00  5.500000e+05       4.0       2.50         1940   \n",
       "...                   ...           ...       ...        ...          ...   \n",
       "4595  2014-07-09 00:00:00  3.081667e+05       3.0       1.75         1510   \n",
       "4596  2014-07-09 00:00:00  5.343333e+05       3.0       2.50         1460   \n",
       "4597  2014-07-09 00:00:00  4.169042e+05       3.0       2.50         3010   \n",
       "4598  2014-07-10 00:00:00  2.034000e+05       4.0       2.00         2090   \n",
       "4599  2014-07-10 00:00:00  2.206000e+05       3.0       2.50         1490   \n",
       "\n",
       "      sqft_lot  floors  waterfront  view  condition  sqft_above  \\\n",
       "0         7912     1.5           0     0          3        1340   \n",
       "1         9050     2.0           0     4          5        3370   \n",
       "2        11947     1.0           0     0          4        1930   \n",
       "3         8030     1.0           0     0          4        1000   \n",
       "4        10500     1.0           0     0          4        1140   \n",
       "...        ...     ...         ...   ...        ...         ...   \n",
       "4595      6360     1.0           0     0          4        1510   \n",
       "4596      7573     2.0           0     0          3        1460   \n",
       "4597      7014     2.0           0     0          3        3010   \n",
       "4598      6630     1.0           0     0          3        1070   \n",
       "4599      8102     2.0           0     0          4        1490   \n",
       "\n",
       "      sqft_basement  yr_built  yr_renovated                    street  \\\n",
       "0                 0      1955          2005      18810 Densmore Ave N   \n",
       "1               280      1921             0           709 W Blaine St   \n",
       "2                 0      1966             0  26206-26214 143rd Ave SE   \n",
       "3              1000      1963             0           857 170th Pl NE   \n",
       "4               800      1976          1992         9105 170th Ave NE   \n",
       "...             ...       ...           ...                       ...   \n",
       "4595              0      1954          1979            501 N 143rd St   \n",
       "4596              0      1983          2009          14855 SE 10th Pl   \n",
       "4597              0      2009             0          759 Ilwaco Pl NE   \n",
       "4598           1020      1974             0         5148 S Creston St   \n",
       "4599              0      1990             0         18717 SE 258th St   \n",
       "\n",
       "           city  statezip country  \n",
       "0     Shoreline  WA 98133     USA  \n",
       "1       Seattle  WA 98119     USA  \n",
       "2          Kent  WA 98042     USA  \n",
       "3      Bellevue  WA 98008     USA  \n",
       "4       Redmond  WA 98052     USA  \n",
       "...         ...       ...     ...  \n",
       "4595    Seattle  WA 98133     USA  \n",
       "4596   Bellevue  WA 98007     USA  \n",
       "4597     Renton  WA 98059     USA  \n",
       "4598    Seattle  WA 98178     USA  \n",
       "4599  Covington  WA 98042     USA  \n",
       "\n",
       "[4600 rows x 18 columns]"
      ]
     },
     "execution_count": 8,
     "metadata": {},
     "output_type": "execute_result"
    }
   ],
   "source": [
    "data"
   ]
  },
  {
   "cell_type": "code",
   "execution_count": 65,
   "id": "35a4e796-e835-488b-93a8-52636c00a24e",
   "metadata": {},
   "outputs": [],
   "source": [
    "x_data = data['sqft_living']\n",
    "y_data = data['price']"
   ]
  },
  {
   "cell_type": "code",
   "execution_count": 66,
   "id": "aacea7ae-3754-45e0-98de-de321398e1e7",
   "metadata": {},
   "outputs": [
    {
     "data": {
      "text/plain": [
       "(0       1340\n",
       " 1       3650\n",
       " 2       1930\n",
       " 3       2000\n",
       " 4       1940\n",
       "         ... \n",
       " 4595    1510\n",
       " 4596    1460\n",
       " 4597    3010\n",
       " 4598    2090\n",
       " 4599    1490\n",
       " Name: sqft_living, Length: 4600, dtype: int64,\n",
       " 0       3.130000e+05\n",
       " 1       2.384000e+06\n",
       " 2       3.420000e+05\n",
       " 3       4.200000e+05\n",
       " 4       5.500000e+05\n",
       "             ...     \n",
       " 4595    3.081667e+05\n",
       " 4596    5.343333e+05\n",
       " 4597    4.169042e+05\n",
       " 4598    2.034000e+05\n",
       " 4599    2.206000e+05\n",
       " Name: price, Length: 4600, dtype: float64)"
      ]
     },
     "execution_count": 66,
     "metadata": {},
     "output_type": "execute_result"
    }
   ],
   "source": [
    "x_data, y_data"
   ]
  },
  {
   "cell_type": "code",
   "execution_count": 67,
   "id": "9ab7f18f-f090-43ef-af55-70cfb5759204",
   "metadata": {},
   "outputs": [
    {
     "data": {
      "text/plain": [
       "4600"
      ]
     },
     "execution_count": 67,
     "metadata": {},
     "output_type": "execute_result"
    }
   ],
   "source": [
    "len(x_data)"
   ]
  },
  {
   "cell_type": "code",
   "execution_count": null,
   "id": "0c6f03f2-01e7-401b-91f9-a7930f0b0a98",
   "metadata": {},
   "outputs": [],
   "source": []
  },
  {
   "cell_type": "code",
   "execution_count": 68,
   "id": "3a5818db-0512-4fcd-81e7-9fb00c844f02",
   "metadata": {},
   "outputs": [],
   "source": [
    "#80 train, 20 validation - random selection\n",
    "\n",
    "def train_validation_split(x, y, validation_size = 0.2, random_state = None):\n",
    "    x_validation = x.sample(frac = validation_size, random_state = random_state)\n",
    "    y_validation = y[x_validation.index]\n",
    "\n",
    "    x_train = x.drop(x_validation.index)\n",
    "    y_train = y.drop(y_validation.index)\n",
    "\n",
    "    return np.array(x_train), np.array(y_train), np.array(x_validation), np.array(y_validation)"
   ]
  },
  {
   "cell_type": "code",
   "execution_count": 69,
   "id": "2d39ba11-0c9b-4db6-bc72-23c43a475c70",
   "metadata": {},
   "outputs": [],
   "source": [
    "x_train, y_train, x_validation, y_validation = train_validation_split(x_data, y_data, validation_size = 0.2, random_state = 0)"
   ]
  },
  {
   "cell_type": "code",
   "execution_count": 70,
   "id": "5767e4cf-b6b4-40af-99fd-6747eeedf720",
   "metadata": {},
   "outputs": [
    {
     "data": {
      "text/plain": [
       "(920, 920)"
      ]
     },
     "execution_count": 70,
     "metadata": {},
     "output_type": "execute_result"
    }
   ],
   "source": [
    "len(x_validation), len(y_validation)"
   ]
  },
  {
   "cell_type": "code",
   "execution_count": 71,
   "id": "8c0b292d-c0f9-4b47-b612-eefe7d9231dd",
   "metadata": {},
   "outputs": [
    {
     "data": {
      "text/plain": [
       "(3680, 3680)"
      ]
     },
     "execution_count": 71,
     "metadata": {},
     "output_type": "execute_result"
    }
   ],
   "source": [
    "len(x_train), len(y_train)"
   ]
  },
  {
   "cell_type": "code",
   "execution_count": 72,
   "id": "af7bbcbb-e401-4072-b02f-5b87d63526af",
   "metadata": {},
   "outputs": [
    {
     "data": {
      "text/plain": [
       "array([1340, 1930, 2000, ..., 3010, 2090, 1490], shape=(3680,))"
      ]
     },
     "execution_count": 72,
     "metadata": {},
     "output_type": "execute_result"
    }
   ],
   "source": [
    "x_train"
   ]
  },
  {
   "cell_type": "code",
   "execution_count": 73,
   "id": "f64b2336-a5cb-4d2e-a3a9-26f20f8d02f7",
   "metadata": {},
   "outputs": [
    {
     "data": {
      "text/plain": [
       "array([313000.      , 342000.      , 420000.      , ..., 416904.166667,\n",
       "       203400.      , 220600.      ], shape=(3680,))"
      ]
     },
     "execution_count": 73,
     "metadata": {},
     "output_type": "execute_result"
    }
   ],
   "source": [
    "y_train"
   ]
  },
  {
   "cell_type": "code",
   "execution_count": 74,
   "id": "7f0d6179-4a75-44e4-b827-1d2216ede94c",
   "metadata": {},
   "outputs": [
    {
     "data": {
      "image/png": "[encoded data removed]",
      "text/plain": [
       "<Figure size 640x480 with 1 Axes>"
      ]
     },
     "metadata": {},
     "output_type": "display_data"
    }
   ],
   "source": [
    "plt.scatter(x_train, y_train)\n",
    "plt.title(\"Train Data: House Size vs Price\")\n",
    "plt.xlabel(\"Size of house in square meters\")\n",
    "plt.ylabel(\"Price\")\n",
    "plt.show()"
   ]
  },
  {
   "cell_type": "code",
   "execution_count": null,
   "id": "1c9297aa-730e-4db2-b3e2-df204122954b",
   "metadata": {},
   "outputs": [],
   "source": []
  },
  {
   "cell_type": "markdown",
   "id": "9a862845-94ee-4d4e-8a98-1061fce0fb05",
   "metadata": {},
   "source": [
    "### Train"
   ]
  },
  {
   "cell_type": "code",
   "execution_count": 75,
   "id": "ab3a660d-30bc-468e-90f3-be44309b3330",
   "metadata": {},
   "outputs": [],
   "source": [
    "def compute_cost(x, y, w, b):\n",
    "    m = x.shape[0]\n",
    "    cost = 0\n",
    "\n",
    "    for i in range (0, m):\n",
    "        f_wb = w * x[i] + b\n",
    "        cost += (f_wb - y[i])**2\n",
    "        \n",
    "    total_cost = cost / (2 * m)\n",
    "    return total_cost\n",
    "    "
   ]
  },
  {
   "cell_type": "code",
   "execution_count": 76,
   "id": "f7ea6445-b02c-4607-81e3-70082defabaa",
   "metadata": {},
   "outputs": [],
   "source": [
    "def compute_gradients(x, y, w, b):\n",
    "    m = x.shape[0]\n",
    "    dj_dw = 0\n",
    "    dj_db = 0\n",
    "\n",
    "    for i in range (0, m):\n",
    "        f_wb = w * x[i] + b\n",
    "        dj_dw += (f_wb - y[i]) * x[i]\n",
    "        dj_db += (f_wb - y[i])\n",
    "\n",
    "    dj_dw = dj_dw / m\n",
    "    dj_db = dj_db / m\n",
    "\n",
    "    return dj_dw, dj_db"
   ]
  },
  {
   "cell_type": "code",
   "execution_count": 77,
   "id": "852a778d-2eec-483a-9aca-096566fa07e3",
   "metadata": {},
   "outputs": [],
   "source": [
    "import copy\n",
    "\n",
    "def gradient_descent(x, y, w_in, b_in, alpha, num_iters, cost_function, gradient_function):\n",
    "    w = copy.deepcopy(w_in)\n",
    "    b = copy.deepcopy(b_in)\n",
    "\n",
    "    #cost function evolution - loss\n",
    "    J_history = []\n",
    "\n",
    "    for i in range (0, num_iters):\n",
    "        dj_dw, dj_db = gradient_function(x, y, w, b)\n",
    "\n",
    "        w = w - alpha * dj_dw\n",
    "        b = b - alpha * dj_db\n",
    "\n",
    "        J_history.append(cost_function(x, y, w, b))\n",
    "\n",
    "        print(f\"Iteration: {i} | Cost: {J_history[i]:.4} | dj_dw: {dj_dw:.4} | dj_db: {dj_db:.4} | w: {w:.4} | b: {b:.4}\")\n",
    "\n",
    "    return w, b, J_history\n",
    "     "
   ]
  },
  {
   "cell_type": "code",
   "execution_count": 78,
   "id": "beaa8b20-c174-42ce-93a9-9a31fb1a99cb",
   "metadata": {},
   "outputs": [
    {
     "name": "stdout",
     "output_type": "stream",
     "text": [
      "Iteration: 0 | Cost: 2.256e+11 | dj_dw: -1.401e+09 | dj_db: -5.504e+05 | w: 420.4 | b: 0.1651\n",
      "Iteration: 1 | Cost: 1.821e+11 | dj_dw: 8.966e+08 | dj_db: 3.448e+05 | w: 151.4 | b: 0.06168\n",
      "Iteration: 2 | Cost: 1.643e+11 | dj_dw: -5.737e+08 | dj_db: -2.28e+05 | w: 323.5 | b: 0.1301\n",
      "Iteration: 3 | Cost: 1.571e+11 | dj_dw: 3.671e+08 | dj_db: 1.385e+05 | w: 213.4 | b: 0.08852\n",
      "Iteration: 4 | Cost: 1.541e+11 | dj_dw: -2.349e+08 | dj_db: -9.599e+04 | w: 283.9 | b: 0.1173\n",
      "Iteration: 5 | Cost: 1.529e+11 | dj_dw: 1.503e+08 | dj_db: 5.407e+04 | w: 238.8 | b: 0.1011\n",
      "Iteration: 6 | Cost: 1.524e+11 | dj_dw: -9.616e+07 | dj_db: -4.195e+04 | w: 267.6 | b: 0.1137\n",
      "Iteration: 7 | Cost: 1.522e+11 | dj_dw: 6.153e+07 | dj_db: 1.949e+04 | w: 249.2 | b: 0.1078\n",
      "Iteration: 8 | Cost: 1.521e+11 | dj_dw: -3.937e+07 | dj_db: -1.982e+04 | w: 261.0 | b: 0.1138\n",
      "Iteration: 9 | Cost: 1.52e+11 | dj_dw: 2.519e+07 | dj_db: 5.331e+03 | w: 253.4 | b: 0.1122\n",
      "Iteration: 10 | Cost: 1.52e+11 | dj_dw: -1.612e+07 | dj_db: -1.076e+04 | w: 258.3 | b: 0.1154\n",
      "Iteration: 11 | Cost: 1.52e+11 | dj_dw: 1.031e+07 | dj_db: -464.8 | w: 255.2 | b: 0.1155\n",
      "Iteration: 12 | Cost: 1.52e+11 | dj_dw: -6.599e+06 | dj_db: -7.054e+03 | w: 257.1 | b: 0.1177\n",
      "Iteration: 13 | Cost: 1.52e+11 | dj_dw: 4.222e+06 | dj_db: -2.838e+03 | w: 255.9 | b: 0.1185\n",
      "Iteration: 14 | Cost: 1.52e+11 | dj_dw: -2.701e+06 | dj_db: -5.535e+03 | w: 256.7 | b: 0.1202\n",
      "Iteration: 15 | Cost: 1.52e+11 | dj_dw: 1.729e+06 | dj_db: -3.809e+03 | w: 256.2 | b: 0.1213\n",
      "Iteration: 16 | Cost: 1.52e+11 | dj_dw: -1.106e+06 | dj_db: -4.914e+03 | w: 256.5 | b: 0.1228\n",
      "Iteration: 17 | Cost: 1.52e+11 | dj_dw: 7.077e+05 | dj_db: -4.207e+03 | w: 256.3 | b: 0.1241\n",
      "Iteration: 18 | Cost: 1.52e+11 | dj_dw: -4.528e+05 | dj_db: -4.659e+03 | w: 256.4 | b: 0.1255\n",
      "Iteration: 19 | Cost: 1.52e+11 | dj_dw: 2.897e+05 | dj_db: -4.37e+03 | w: 256.3 | b: 0.1268\n",
      "(w, b) found by gradient descent (256.3, 0.1268)\n"
     ]
    }
   ],
   "source": [
    "w_init = 0\n",
    "b_init = 0\n",
    "\n",
    "iterations = 20\n",
    "alpha = 3.0e-7\n",
    "\n",
    "w_final, b_final, J_history = gradient_descent(x_train, y_train, w_init, b_init, alpha, iterations, compute_cost, compute_gradients)\n",
    "print(f\"(w, b) found by gradient descent ({w_final:.4}, {b_final:.4})\")"
   ]
  },
  {
   "cell_type": "code",
   "execution_count": null,
   "id": "c028d02c-1e56-4c4d-89ac-dcaedd2da044",
   "metadata": {},
   "outputs": [],
   "source": []
  },
  {
   "cell_type": "code",
   "execution_count": null,
   "id": "a922114b-b90d-4872-b720-2eed9450f875",
   "metadata": {},
   "outputs": [],
   "source": []
  },
  {
   "cell_type": "markdown",
   "id": "cc14af45-2ae7-47f4-87b7-ef37f59df8e8",
   "metadata": {},
   "source": [
    "### Metrics"
   ]
  },
  {
   "cell_type": "code",
   "execution_count": 79,
   "id": "73f9f9cc-00de-4c9f-81d7-986006446eff",
   "metadata": {},
   "outputs": [
    {
     "data": {
      "text/plain": [
       "[np.float64(225559718239.4321),\n",
       " np.float64(182127781493.96085),\n",
       " np.float64(164346570937.49078),\n",
       " np.float64(157066871420.5717),\n",
       " np.float64(154086532993.90967),\n",
       " np.float64(152866370385.26025),\n",
       " np.float64(152366830875.08463),\n",
       " np.float64(152162317375.79886),\n",
       " np.float64(152078588718.52863),\n",
       " np.float64(152044309864.0627),\n",
       " np.float64(152030275958.852),\n",
       " np.float64(152024530417.74155),\n",
       " np.float64(152022178166.4146),\n",
       " np.float64(152021215141.6476),\n",
       " np.float64(152020820871.85294),\n",
       " np.float64(152020659452.644),\n",
       " np.float64(152020593363.40674),\n",
       " np.float64(152020566302.6452),\n",
       " np.float64(152020555220.29965),\n",
       " np.float64(152020550679.58224)]"
      ]
     },
     "execution_count": 79,
     "metadata": {},
     "output_type": "execute_result"
    }
   ],
   "source": [
    "J_history"
   ]
  },
  {
   "cell_type": "code",
   "execution_count": 80,
   "id": "fed2be5c-9865-49a7-bfad-7803dd6f8991",
   "metadata": {},
   "outputs": [
    {
     "data": {
      "image/png": "[encoded data removed]",
      "text/plain": [
       "<Figure size 640x480 with 1 Axes>"
      ]
     },
     "metadata": {},
     "output_type": "display_data"
    }
   ],
   "source": [
    "plt.plot(J_history)\n",
    "plt.title(\"Loss evolution (cost function per iteration)\")\n",
    "plt.xlabel(\"Iteration number\")\n",
    "plt.ylabel(\"Cost function\")\n",
    "plt.show()"
   ]
  },
  {
   "cell_type": "code",
   "execution_count": 81,
   "id": "118a2cc7-59eb-44b0-9472-a8a38d64d59a",
   "metadata": {},
   "outputs": [],
   "source": [
    "def r2_score(y, y_):\n",
    "    num = np.sum((y - y_)**2)\n",
    "    denom = np.sum((y - y.mean())**2)\n",
    "\n",
    "    score = 1 - num / denom\n",
    "    return score\n",
    "    "
   ]
  },
  {
   "cell_type": "code",
   "execution_count": 82,
   "id": "c481097b-c8b7-417a-8823-28c5bf34d760",
   "metadata": {},
   "outputs": [],
   "source": [
    "y_predicted_train = [ w_final * i + b_final for i in x_train]"
   ]
  },
  {
   "cell_type": "code",
   "execution_count": 83,
   "id": "6d38a78b-9a8d-487c-bea6-e9bc0626d725",
   "metadata": {},
   "outputs": [
    {
     "data": {
      "text/plain": [
       "np.float64(0.15614914048056117)"
      ]
     },
     "execution_count": 83,
     "metadata": {},
     "output_type": "execute_result"
    }
   ],
   "source": [
    "r2_score(y_train, y_predicted_train) # (0-1)"
   ]
  },
  {
   "cell_type": "code",
   "execution_count": 84,
   "id": "bf2a6b70-51cb-47be-a45f-f717fd66b428",
   "metadata": {},
   "outputs": [],
   "source": [
    "y_predicted_validate = [ w_final * i + b_final for i in x_validation]"
   ]
  },
  {
   "cell_type": "code",
   "execution_count": 85,
   "id": "5a028ef7-3bbf-4ced-a685-25d213912a7f",
   "metadata": {},
   "outputs": [
    {
     "data": {
      "text/plain": [
       "np.float64(0.46747031076746703)"
      ]
     },
     "execution_count": 85,
     "metadata": {},
     "output_type": "execute_result"
    }
   ],
   "source": [
    "r2_score(y_validation, y_predicted_validate) # (0-1)"
   ]
  },
  {
   "cell_type": "code",
   "execution_count": 86,
   "id": "214bd519-0acc-4a08-94f8-dccb3617b1d0",
   "metadata": {},
   "outputs": [
    {
     "data": {
      "text/plain": [
       "<matplotlib.collections.PathCollection at 0x17d10334410>"
      ]
     },
     "execution_count": 86,
     "metadata": {},
     "output_type": "execute_result"
    },
    {
     "data": {
      "image/png": "[encoded data removed]",
      "text/plain": [
       "<Figure size 640x480 with 1 Axes>"
      ]
     },
     "metadata": {},
     "output_type": "display_data"
    }
   ],
   "source": [
    "plt.scatter(x_validation, y_validation)"
   ]
  },
  {
   "cell_type": "code",
   "execution_count": 87,
   "id": "1659c1fd-1acc-49c6-a35f-2d1079319b5e",
   "metadata": {},
   "outputs": [
    {
     "data": {
      "text/plain": [
       "<matplotlib.collections.PathCollection at 0x17d1031c590>"
      ]
     },
     "execution_count": 87,
     "metadata": {},
     "output_type": "execute_result"
    },
    {
     "data": {
      "image/png": "[encoded data removed]",
      "text/plain": [
       "<Figure size 640x480 with 1 Axes>"
      ]
     },
     "metadata": {},
     "output_type": "display_data"
    }
   ],
   "source": [
    "plt.scatter(x_train, y_train)"
   ]
  },
  {
   "cell_type": "code",
   "execution_count": null,
   "id": "344f2433-0722-4766-b57f-98e9d7d3f11b",
   "metadata": {},
   "outputs": [],
   "source": []
  },
  {
   "cell_type": "code",
   "execution_count": null,
   "id": "28a29b45-524b-43ab-9749-29c94ab34a07",
   "metadata": {},
   "outputs": [],
   "source": []
  },
  {
   "cell_type": "markdown",
   "id": "3a0685cd-2204-4c2b-a28a-4b72e3a6ede0",
   "metadata": {},
   "source": [
    "### Prediction"
   ]
  },
  {
   "cell_type": "code",
   "execution_count": 88,
   "id": "fd110366-c90d-4596-b990-2724f1ef78c2",
   "metadata": {},
   "outputs": [
    {
     "name": "stdout",
     "output_type": "stream",
     "text": [
      "A house with size(m^2) 20 has a price of: 5126.730660437064$\n",
      "A house with size(m^2) 30 has a price of: 7690.032608862009$\n",
      "A house with size(m^2) 50 has a price of: 12816.636505711898$\n",
      "A house with size(m^2) 60 has a price of: 15379.938454136842$\n",
      "A house with size(m^2) 100 has a price of: 25633.14624783662$\n"
     ]
    }
   ],
   "source": [
    "size_of_house = 20\n",
    "print(f\"A house with size(m^2) {size_of_house} has a price of: {w_final * size_of_house + b_final}$\")\n",
    "\n",
    "size_of_house = 30\n",
    "print(f\"A house with size(m^2) {size_of_house} has a price of: {w_final * size_of_house + b_final}$\")\n",
    "\n",
    "size_of_house = 50\n",
    "print(f\"A house with size(m^2) {size_of_house} has a price of: {w_final * size_of_house + b_final}$\")\n",
    "\n",
    "size_of_house = 60\n",
    "print(f\"A house with size(m^2) {size_of_house} has a price of: {w_final * size_of_house + b_final}$\")\n",
    "\n",
    "size_of_house = 100\n",
    "print(f\"A house with size(m^2) {size_of_house} has a price of: {w_final * size_of_house + b_final}$\")\n"
   ]
  },
  {
   "cell_type": "code",
   "execution_count": 89,
   "id": "c9e456d0-3094-4a03-b12f-23f54ae512c8",
   "metadata": {},
   "outputs": [
    {
     "data": {
      "image/png": "[encoded data removed]",
      "text/plain": [
       "<Figure size 640x480 with 1 Axes>"
      ]
     },
     "metadata": {},
     "output_type": "display_data"
    }
   ],
   "source": [
    "plt.scatter(x_train, y_train)\n",
    "plt.plot(x_train, w_final * x_train + b_final, c = 'r')\n",
    "plt.show()"
   ]
  },
  {
   "cell_type": "code",
   "execution_count": null,
   "id": "9039a964-e10c-45c2-a550-bad420086bb5",
   "metadata": {},
   "outputs": [],
   "source": []
  },
  {
   "cell_type": "code",
   "execution_count": null,
   "id": "4c68f18b-196c-4f52-b01a-6db253917251",
   "metadata": {},
   "outputs": [],
   "source": []
  }
 ],
 "metadata": {
  "kernelspec": {
   "display_name": "Python 3 (ipykernel)",
   "language": "python",
   "name": "python3"
  },
  "language_info": {
   "codemirror_mode": {
    "name": "ipython",
    "version": 3
   },
   "file_extension": ".py",
   "mimetype": "text/x-python",
   "name": "python",
   "nbconvert_exporter": "python",
   "pygments_lexer": "ipython3",
   "version": "3.11.9"
  }
 },
 "nbformat": 4,
 "nbformat_minor": 5
}
